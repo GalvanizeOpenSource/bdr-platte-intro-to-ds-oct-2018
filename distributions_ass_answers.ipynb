{
 "cells": [
  {
   "cell_type": "code",
   "execution_count": 1,
   "metadata": {},
   "outputs": [],
   "source": [
    "import numpy as np\n",
    "import scipy.stats as s\n",
    "\n",
    "from math import sqrt\n",
    "from math import factorial as fact\n",
    "from math import exp\n",
    "\n",
    "import matplotlib.pyplot as plt\n",
    "from matplotlib.pyplot import cm\n",
    "\n",
    "%matplotlib inline"
   ]
  },
  {
   "cell_type": "markdown",
   "metadata": {},
   "source": [
    "## Create PMF Functions"
   ]
  },
  {
   "cell_type": "code",
   "execution_count": 2,
   "metadata": {},
   "outputs": [],
   "source": [
    "# Binomial PMF\n",
    "def n_choose_k(n, k):\n",
    "    return fact(n) / (fact(k)*(fact(n-k)))\n",
    "\n",
    "def binomial(n, k, p):\n",
    "    '''\n",
    "    n = number of trials\n",
    "    k = number of successes\n",
    "    p = probability of success\n",
    "    return probability of k successes\n",
    "    '''\n",
    "    return n_choose_k(n, k) * p**k * (1-p)**(n-k)\n",
    "\n",
    "# Geometric \n",
    "def geometric(p, k):\n",
    "    '''\n",
    "    k = kth trial\n",
    "    p = probability of success\n",
    "    return probability of first success on kth trial\n",
    "    '''\n",
    "    return (1-p)**(k-1) * p\n",
    "\n",
    "# Poisson PMF\n",
    "def poisson(lam, k):\n",
    "    '''\n",
    "    lam = expected successes in time interval\n",
    "    k = number of successes\n",
    "    return probability of k successes\n",
    "    '''\n",
    "    return lam**k * exp(-lam) / fact(k)\n",
    "\n",
    "def myround(x, base=5):\n",
    "    x = float(int(x*100))\n",
    "    return int(base * int(x/base))/100 + .05"
   ]
  },
  {
   "cell_type": "markdown",
   "metadata": {},
   "source": [
    "## Probability Questions\n",
    "\n",
    "### Binomial: k successes out of n trials\n",
    "\n",
    "1. Probability of getting 7 heads out of 20 coin flips with a fair coin.\n",
    "2. Probability of getting between 3 and 7 heads out of 20 coin flips with an unfair coin that lands on heads 75% of the time.\n",
    "3. What is the probability of rolling doubles 10 times out of 100 rolls when rolling two six-sided die?\n",
    "4. Sean has the strength advantage but with Erin's piano background she has very dexterous thumbs.  When they thumb wrestle Erin wins 75% of the time.  What is the probabilty that out of 10 Thumb Wrestlng matches Sean wins more than 8 times?\n",
    "\n",
    "### Geometric: first success on kth trial\n",
    "\n",
    "1. Probability of not flipping heads until the 5th flip with a fair coin.\n",
    "2. Probability of rolling doubles on your first roll.\n",
    "3. Sean's baby, Dayton, pukes once for every three feedings and is fed 9 times a day.  What is the probability that she won't puke for a full day of feedings?\n",
    "\n",
    "### Poisson: probabilty of k successes over a time interval\n",
    "\n",
    "1. Dr. Evil tries to take over the world once every 2 years.  What is the probability that he doesn't try to take over the world in the next 10 years?\n",
    "2. Dayton pukes on Sean 3 times a day. What is the probabilty he gets puked on 15 times in one week?\n",
    "3. On average 4 students make it this far in the assignment what is the probability that between 6 and 10 students do this time?\n",
    "4. Dr. Evil has a pool of sharks with laser beams attached to their foreheads, wher he executes prisoners, but he has a tendency to monologue, about his datardly plan for world domination, during which a prisoner escapes every 5 minutes.  If he monologues for 10 what is the probability that a prisoner gets away safely?"
   ]
  },
  {
   "cell_type": "markdown",
   "metadata": {},
   "source": [
    "## Answers"
   ]
  },
  {
   "cell_type": "markdown",
   "metadata": {},
   "source": [
    "1. Probability of getting 7 heads out of 20 coin flips with a fair coin. "
   ]
  },
  {
   "cell_type": "code",
   "execution_count": 8,
   "metadata": {},
   "outputs": [
    {
     "name": "stdout",
     "output_type": "stream",
     "text": [
      "Formula: 0.0739, scipy.pmf: 0.0739, scipy.cdf: 0.0739\n"
     ]
    }
   ],
   "source": [
    "# Binomial Distribution\n",
    "\n",
    "n = 20\n",
    "p = .5\n",
    "k = 7\n",
    "mu = n*p\n",
    "\n",
    "# Equation\n",
    "p1 = binomial(n, k, p)\n",
    "\n",
    "# Scipy Stats PMF\n",
    "p2 = s.binom.pmf(k=k, n=n, p=p)\n",
    "\n",
    "# Scipy Stats CDF\n",
    "p3 = s.binom.cdf(k=k, n=n, p=p) - s.binom.cdf(k=k-1, n=n, p=p)\n",
    "\n",
    "print('Formula: {:.4f}, scipy.pmf: {:.4f}, scipy.cdf: {:.4f}'.format(p1, p2, p3))"
   ]
  },
  {
   "cell_type": "markdown",
   "metadata": {},
   "source": [
    "2. Probability of not flipping heads until the 5th flip with a fair coin."
   ]
  },
  {
   "cell_type": "code",
   "execution_count": 9,
   "metadata": {},
   "outputs": [
    {
     "name": "stdout",
     "output_type": "stream",
     "text": [
      "Formula: 0.0312, scipy.pmf: 0.0312, scipy.cdf: 0.0312\n"
     ]
    }
   ],
   "source": [
    "# Geometric Distribution\n",
    "\n",
    "p = .5\n",
    "k = 5\n",
    "mu = 1/p\n",
    "\n",
    "# Equation\n",
    "p1 = geometric(p, k)\n",
    "\n",
    "# Scipy Stats PMF\n",
    "p2 = s.geom.pmf(p=p, k=k)\n",
    "\n",
    "# Scipy Stats CDF\n",
    "p3 = s.geom.cdf(p=p, k=k) - s.geom.cdf(p=p, k=k-1)\n",
    "\n",
    "print('Formula: {:.4f}, scipy.pmf: {:.4f}, scipy.cdf: {:.4f}'.format(p1, p2, p3))"
   ]
  },
  {
   "cell_type": "markdown",
   "metadata": {},
   "source": [
    "3. Dr. Evil tries to take over the world once every 2 years.  What is the probability that he doesn't try to take over the world in the next 10 years?"
   ]
  },
  {
   "cell_type": "code",
   "execution_count": 10,
   "metadata": {},
   "outputs": [
    {
     "name": "stdout",
     "output_type": "stream",
     "text": [
      "Formula: 0.0067, scipy.pmf: 0.0067, scipy.cdf: 0.0067\n"
     ]
    }
   ],
   "source": [
    "# Poisson Distribution\n",
    "\n",
    "lam = .5 * 10\n",
    "k = 0\n",
    "\n",
    "# Equation\n",
    "poisson1 = poisson(lam=lam, k=k)\n",
    "\n",
    "# Scipy Stats PMF\n",
    "poisson2 = s.poisson.pmf(k=k, mu=lam)\n",
    "\n",
    "# Scipy Stats CDF\n",
    "poisson3 = s.poisson.cdf(k=k, mu=lam)\n",
    "\n",
    "print('Formula: {:.4f}, scipy.pmf: {:.4f}, scipy.cdf: {:.4f}'.format(poisson1, poisson2, poisson3))"
   ]
  },
  {
   "cell_type": "markdown",
   "metadata": {},
   "source": [
    "4. Probability of getting between 3 and 7 (inclusive) heads out of 20 coin flips with an unfair coin that lands on heads 75% of the time. (Binomial)"
   ]
  },
  {
   "cell_type": "code",
   "execution_count": 13,
   "metadata": {},
   "outputs": [
    {
     "name": "stdout",
     "output_type": "stream",
     "text": [
      "7\n",
      "2\n",
      "Formula: 0.1314, scipy.pmf: 0.1314, scipy.cdf: 0.1314\n"
     ]
    }
   ],
   "source": [
    "# Binomial Distribution\n",
    "\n",
    "n = 20\n",
    "p = .5\n",
    "ks = list(range(3, 8))\n",
    "mu = n*p\n",
    "\n",
    "# Equation\n",
    "p1 = 0\n",
    "for k in ks:\n",
    "    p1 += binomial(n, k, p)\n",
    "\n",
    "# Scipy Stats PMF\n",
    "p2 = 0\n",
    "for k in ks:\n",
    "    p2 += s.binom.pmf(k=k, n=n, p=p)\n",
    "\n",
    "# Scipy Stats CDF\n",
    "p3 = s.binom.cdf(k=ks[-1], n=n, p=p) - s.binom.cdf(k=ks[0]-1, n=n, p=p)\n",
    "\n",
    "\n",
    "print('Formula: {:.4f}, scipy.pmf: {:.4f}, scipy.cdf: {:.4f}'.format(p1, p2, p3))"
   ]
  },
  {
   "cell_type": "markdown",
   "metadata": {},
   "source": [
    "5. Dr. Evil has a pool of sharks with laser beams attached to their foreheads, wher he executes prisoners, but he has a tendency to monologue, about his datardly plan for world domination, during which a prisoner escapes every 5 minutes.  If he monologues for 10 what is the probability that a prisoner gets away safely?"
   ]
  },
  {
   "cell_type": "code",
   "execution_count": 18,
   "metadata": {},
   "outputs": [
    {
     "name": "stdout",
     "output_type": "stream",
     "text": [
      "Formula: 0.2707, scipy.pmf: 0.2707, scipy.cdf: 0.2707\n"
     ]
    }
   ],
   "source": [
    "# Poisson Distribution\n",
    "\n",
    "lam = 1 * 2\n",
    "k = 1\n",
    "\n",
    "# Equation\n",
    "poisson1 = poisson(lam=lam, k=k)\n",
    "\n",
    "# Scipy Stats PMF\n",
    "poisson2 = s.poisson.pmf(k=k, mu=lam)\n",
    "\n",
    "# Scipy Stats CDF\n",
    "poisson3 = s.poisson.cdf(k=k, mu=lam) - s.poisson.cdf(k=k-1, mu=lam)\n",
    "\n",
    "print('Formula: {:.4f}, scipy.pmf: {:.4f}, scipy.cdf: {:.4f}'.format(poisson1, poisson2, poisson3))"
   ]
  },
  {
   "cell_type": "markdown",
   "metadata": {},
   "source": [
    "6. What is the probability of rolling doubles 10 times out of 100 rolls when rolling two six-sided die?"
   ]
  },
  {
   "cell_type": "code",
   "execution_count": 19,
   "metadata": {},
   "outputs": [
    {
     "name": "stdout",
     "output_type": "stream",
     "text": [
      "Formula: 0.0214, scipy.pmf: 0.0214, scipy.cdf: 0.0214\n"
     ]
    }
   ],
   "source": [
    "# Binomial Distribution\n",
    "\n",
    "n = 100\n",
    "p = 6/36\n",
    "k = 10\n",
    "mu = n*p\n",
    "\n",
    "# Equation\n",
    "p1 = binomial(n, k, p)\n",
    "\n",
    "# Scipy Stats PMF\n",
    "p2 = s.binom.pmf(k=k, n=n, p=p)\n",
    "\n",
    "# Scipy Stats CDF\n",
    "p3 = s.binom.cdf(k=k, n=n, p=p) - s.binom.cdf(k=k-1, n=n, p=p)\n",
    "\n",
    "print('Formula: {:.4f}, scipy.pmf: {:.4f}, scipy.cdf: {:.4f}'.format(p1, p2, p3))"
   ]
  },
  {
   "cell_type": "markdown",
   "metadata": {},
   "source": [
    "7. Sean has the strength advantage but with Erin's piano background she has very dexterous thumbs--when they thumb wrestle Erin wins 75% of the time.  What is the probabilty that out of 10 thumb wrestlng matches Sean wins more than 8 times?"
   ]
  },
  {
   "cell_type": "code",
   "execution_count": 20,
   "metadata": {},
   "outputs": [
    {
     "name": "stdout",
     "output_type": "stream",
     "text": [
      "Formula: 0.8684, scipy.pmf: 0.8684, scipy.cdf: 0.8684\n"
     ]
    }
   ],
   "source": [
    "# Binomial Distribution\n",
    "\n",
    "n = 20\n",
    "p = .5\n",
    "ks = list(range(8, 21))\n",
    "mu = n*p\n",
    "\n",
    "# Equation\n",
    "p1 = 0\n",
    "for k in ks:\n",
    "    p1 += binomial(n, k, p)\n",
    "\n",
    "# Scipy Stats PMF\n",
    "p2 = 0\n",
    "for k in ks:\n",
    "    p2 += s.binom.pmf(k=k, n=n, p=p)\n",
    "\n",
    "# Scipy Stats CDF\n",
    "p3 = s.binom.cdf(k=ks[-1], n=n, p=p) - s.binom.cdf(k=ks[0]-1, n=n, p=p)\n",
    "\n",
    "print('Formula: {:.4f}, scipy.pmf: {:.4f}, scipy.cdf: {:.4f}'.format(p1, p2, p3))"
   ]
  },
  {
   "cell_type": "markdown",
   "metadata": {},
   "source": [
    "8. Probability of rolling doubles on your first roll when rolling two six-sided die?"
   ]
  },
  {
   "cell_type": "code",
   "execution_count": 15,
   "metadata": {},
   "outputs": [
    {
     "name": "stdout",
     "output_type": "stream",
     "text": [
      "Formula: 0.1667, scipy.pmf: 0.1667, scipy.cdf: 0.1667\n"
     ]
    }
   ],
   "source": [
    "# Geometric Distribution\n",
    "\n",
    "p = 6/36\n",
    "k = 1\n",
    "mu = 1/p\n",
    "\n",
    "# Equation\n",
    "p1 = geometric(p, k)\n",
    "\n",
    "# Scipy Stats PMF\n",
    "p2 = s.geom.pmf(p=p, k=k)\n",
    "\n",
    "# Scipy Stats CDF\n",
    "p3 = s.geom.cdf(p=p, k=k) - s.geom.cdf(p=p, k=k-1)\n",
    "\n",
    "print('Formula: {:.4f}, scipy.pmf: {:.4f}, scipy.cdf: {:.4f}'.format(p1, p2, p3))"
   ]
  },
  {
   "cell_type": "markdown",
   "metadata": {},
   "source": [
    "9. Sean's baby, Dayton, pukes once for every three feedings and is fed 9 times a day.  What is the probability that she won't puke for a full day of feedings? "
   ]
  },
  {
   "cell_type": "code",
   "execution_count": 16,
   "metadata": {},
   "outputs": [
    {
     "name": "stdout",
     "output_type": "stream",
     "text": [
      "Formula: 0.0087, scipy.pmf: 0.0087, scipy.cdf: 0.0087\n"
     ]
    }
   ],
   "source": [
    "# Geometric Distribution\n",
    "\n",
    "p = 1/3\n",
    "k = 10\n",
    "mu = 1/p\n",
    "\n",
    "# Equation\n",
    "p1 = geometric(p, k)\n",
    "\n",
    "# Scipy Stats PMF\n",
    "p2 = s.geom.pmf(p=p, k=k)\n",
    "\n",
    "# Scipy Stats CDF\n",
    "p3 = s.geom.cdf(p=p, k=k) - s.geom.cdf(p=p, k=k-1)\n",
    "\n",
    "print('Formula: {:.4f}, scipy.pmf: {:.4f}, scipy.cdf: {:.4f}'.format(p1, p2, p3))"
   ]
  },
  {
   "cell_type": "markdown",
   "metadata": {},
   "source": [
    "10. Dayton pukes on Sean 3 times a day. What is the probabilty he gets puked on 15 times in one week?"
   ]
  },
  {
   "cell_type": "code",
   "execution_count": 17,
   "metadata": {},
   "outputs": [
    {
     "name": "stdout",
     "output_type": "stream",
     "text": [
      "Formula: 0.0395, scipy.pmf: 0.0395, scipy.cdf: 0.0395\n"
     ]
    }
   ],
   "source": [
    "# Poisson Distribution\n",
    "\n",
    "lam = 3 * 7\n",
    "k = 15\n",
    "\n",
    "# Equation\n",
    "poisson1 = poisson(lam=lam, k=k)\n",
    "\n",
    "# Scipy Stats PMF\n",
    "poisson2 = s.poisson.pmf(k=k, mu=lam)\n",
    "\n",
    "# Scipy Stats CDF\n",
    "poisson3 = s.poisson.cdf(k=k, mu=lam) - s.poisson.cdf(k=k-1, mu=lam)\n",
    "\n",
    "print('Formula: {:.4f}, scipy.pmf: {:.4f}, scipy.cdf: {:.4f}'.format(poisson1, poisson2, poisson3))"
   ]
  },
  {
   "cell_type": "code",
   "execution_count": null,
   "metadata": {},
   "outputs": [],
   "source": []
  }
 ],
 "metadata": {
  "kernelspec": {
   "display_name": "Python 3",
   "language": "python",
   "name": "python3"
  },
  "language_info": {
   "codemirror_mode": {
    "name": "ipython",
    "version": 3
   },
   "file_extension": ".py",
   "mimetype": "text/x-python",
   "name": "python",
   "nbconvert_exporter": "python",
   "pygments_lexer": "ipython3",
   "version": "3.6.4"
  }
 },
 "nbformat": 4,
 "nbformat_minor": 2
}
