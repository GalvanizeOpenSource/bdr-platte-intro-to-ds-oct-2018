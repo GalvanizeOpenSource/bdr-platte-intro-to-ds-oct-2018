{
 "cells": [
  {
   "cell_type": "markdown",
   "metadata": {},
   "source": [
    "### Functions / Subroutines"
   ]
  },
  {
   "cell_type": "markdown",
   "metadata": {},
   "source": [
    "You've seen lots of functions so far: len(), range(), etc\n",
    "You will want to write your own functions that perform a \n",
    "specific task."
   ]
  },
  {
   "cell_type": "code",
   "execution_count": 1,
   "metadata": {},
   "outputs": [],
   "source": [
    "# Let's look at why you may want to write your own functions\n",
    "evens = []\n",
    "for num in range(10):\n",
    "    if num % 2 == 0:\n",
    "        evens.append(num)"
   ]
  },
  {
   "cell_type": "markdown",
   "metadata": {},
   "source": [
    "Great! \n",
    "- But what if you want to do that for a list of numbers of any length? \n",
    "- Maybe you have a different list of numbers every day and you need to find a way to do this over and over and over again.\n",
    "- You could just type that code out every day, but that would take time.\n",
    "- Enter functions!"
   ]
  },
  {
   "cell_type": "code",
   "execution_count": 2,
   "metadata": {},
   "outputs": [],
   "source": [
    "# Before we turn your evens code into a function, let's look at the \n",
    "# body of a function\n",
    "\n",
    "# start by defining the function with def. Now Python knows to remember it\n",
    "# call it an explicit name so that you'll know what it does 3 years from now \n",
    "# state what parameters are passed to the function\n",
    "\n",
    "def my_function(parameters_go_here, can_have_none_or_many):\n",
    "    pass # notice the : and indentation # this is where you'll put your code"
   ]
  },
  {
   "cell_type": "code",
   "execution_count": 3,
   "metadata": {},
   "outputs": [],
   "source": [
    "# Now let's put the evens code into a function\n",
    "\n",
    "# here's the code for reference\n",
    "evens = []\n",
    "for num in range(10):\n",
    "    if num % 2 == 0:\n",
    "        evens.append(num)\n",
    "\n",
    "# here's the code in a function\n",
    "def get_evens():\n",
    "    evens = []\n",
    "    for num in range(10):\n",
    "        if num % 2 == 0:\n",
    "            evens.append(num)"
   ]
  },
  {
   "cell_type": "code",
   "execution_count": 4,
   "metadata": {},
   "outputs": [],
   "source": [
    "# Now, to call your function:\n",
    "get_evens()"
   ]
  },
  {
   "cell_type": "code",
   "execution_count": 5,
   "metadata": {},
   "outputs": [],
   "source": [
    "# Nothing happened. Why? You must tell the function to give something to you\n",
    "# do this by putting return at the very end of your function\n",
    "\n",
    "def get_evens():\n",
    "    evens = []\n",
    "    for num in range(10):\n",
    "        if num % 2 == 0:\n",
    "            evens.append(num)\n",
    "    return evens"
   ]
  },
  {
   "cell_type": "code",
   "execution_count": 6,
   "metadata": {},
   "outputs": [
    {
     "data": {
      "text/plain": [
       "[0, 2, 4, 6, 8]"
      ]
     },
     "execution_count": 6,
     "metadata": {},
     "output_type": "execute_result"
    }
   ],
   "source": [
    "# Now call it again\n",
    "get_evens()"
   ]
  },
  {
   "cell_type": "code",
   "execution_count": 7,
   "metadata": {},
   "outputs": [],
   "source": [
    "# Awesome. Now let's break it\n",
    "def get_evens():\n",
    "    evens = []\n",
    "    for num in range(10):\n",
    "        if num % 2 == 0:\n",
    "            evens.append(num)\n",
    "        return evens"
   ]
  },
  {
   "cell_type": "code",
   "execution_count": 8,
   "metadata": {},
   "outputs": [
    {
     "data": {
      "text/plain": [
       "[0]"
      ]
     },
     "execution_count": 8,
     "metadata": {},
     "output_type": "execute_result"
    }
   ],
   "source": [
    "get_evens()"
   ]
  },
  {
   "cell_type": "code",
   "execution_count": 9,
   "metadata": {},
   "outputs": [],
   "source": [
    "def get_evens():\n",
    "    evens = []\n",
    "    for num in range(10):\n",
    "        if num % 2 == 0:\n",
    "            evens.append(num)\n",
    "            return evens"
   ]
  },
  {
   "cell_type": "code",
   "execution_count": 10,
   "metadata": {},
   "outputs": [
    {
     "data": {
      "text/plain": [
       "[0]"
      ]
     },
     "execution_count": 10,
     "metadata": {},
     "output_type": "execute_result"
    }
   ],
   "source": [
    "get_evens()"
   ]
  },
  {
   "cell_type": "code",
   "execution_count": 11,
   "metadata": {},
   "outputs": [],
   "source": [
    "# What happened? We moved the return statement...\n",
    "# This is ok to do if you want the function ro return something\n",
    "# as soon as a condition is met. But for our function, \n",
    "# we needed it to return the whole list. \n",
    "# Because return acts as a break, it broke the loop\n",
    "# before the loop was able to append all the evens to the list"
   ]
  },
  {
   "cell_type": "markdown",
   "metadata": {},
   "source": [
    "### Parameters and Arguments"
   ]
  },
  {
   "cell_type": "code",
   "execution_count": 12,
   "metadata": {},
   "outputs": [],
   "source": [
    "# Let's add parameters to our evens function"
   ]
  },
  {
   "cell_type": "code",
   "execution_count": 13,
   "metadata": {},
   "outputs": [],
   "source": [
    "def get_evens(n): # notice, I passed the function the parameter n\n",
    "    evens = []\n",
    "    for num in range(n): # here, I'm calling range on n\n",
    "        if num % 2 == 0:\n",
    "            evens.append(num)\n",
    "    return evens"
   ]
  },
  {
   "cell_type": "code",
   "execution_count": 14,
   "metadata": {},
   "outputs": [
    {
     "data": {
      "text/plain": [
       "[0, 2, 4]"
      ]
     },
     "execution_count": 14,
     "metadata": {},
     "output_type": "execute_result"
    }
   ],
   "source": [
    "# Now you can give your function any number you want\n",
    "get_evens(5)"
   ]
  },
  {
   "cell_type": "code",
   "execution_count": 15,
   "metadata": {},
   "outputs": [
    {
     "data": {
      "text/plain": [
       "[0, 2, 4, 6, 8, 10, 12, 14, 16, 18, 20, 22, 24, 26, 28]"
      ]
     },
     "execution_count": 15,
     "metadata": {},
     "output_type": "execute_result"
    }
   ],
   "source": [
    "get_evens(30)"
   ]
  },
  {
   "cell_type": "code",
   "execution_count": 16,
   "metadata": {},
   "outputs": [],
   "source": [
    "# What if you want the function to always give you evens\n",
    "# for the number 20, unless you tell it a different number?\n",
    "\n",
    "def get_evens(n=20): \n",
    "    evens = []\n",
    "    for num in range(n):\n",
    "        if num % 2 == 0:\n",
    "            evens.append(num)\n",
    "    return evens"
   ]
  },
  {
   "cell_type": "code",
   "execution_count": 17,
   "metadata": {},
   "outputs": [
    {
     "data": {
      "text/plain": [
       "[0, 2, 4, 6, 8, 10, 12, 14, 16, 18]"
      ]
     },
     "execution_count": 17,
     "metadata": {},
     "output_type": "execute_result"
    }
   ],
   "source": [
    "get_evens()"
   ]
  },
  {
   "cell_type": "code",
   "execution_count": 18,
   "metadata": {},
   "outputs": [
    {
     "data": {
      "text/plain": [
       "[0, 2, 4]"
      ]
     },
     "execution_count": 18,
     "metadata": {},
     "output_type": "execute_result"
    }
   ],
   "source": [
    "get_evens(5)"
   ]
  },
  {
   "cell_type": "code",
   "execution_count": 19,
   "metadata": {},
   "outputs": [],
   "source": [
    "# We can abstract this function even more.\n",
    "\n",
    "def get_multiples(number, divisor):\n",
    "    multiples_list = []\n",
    "    for element in range(number):\n",
    "        if element % divisor == 0:\n",
    "            multiples_list.append(element)\n",
    "    return multiples_list\n",
    "\n",
    "# This function will return all the multiples of 3 up to 45"
   ]
  },
  {
   "cell_type": "code",
   "execution_count": 20,
   "metadata": {},
   "outputs": [
    {
     "data": {
      "text/plain": [
       "[0, 3, 6, 9, 12, 15, 18, 21, 24, 27, 30, 33, 36, 39, 42]"
      ]
     },
     "execution_count": 20,
     "metadata": {},
     "output_type": "execute_result"
    }
   ],
   "source": [
    "get_multiples(45, 3)"
   ]
  },
  {
   "cell_type": "markdown",
   "metadata": {},
   "source": [
    "### Order Matters "
   ]
  },
  {
   "cell_type": "code",
   "execution_count": 21,
   "metadata": {},
   "outputs": [],
   "source": [
    "# This is the correct order for parameters: \n",
    "# set parameters must come before changeable parameters\n",
    "\n",
    "def get_multiples(number, divisor=2):\n",
    "    multiples_list = []\n",
    "    \n",
    "    for element in range(number):\n",
    "        if element % divisor == 0:\n",
    "            multiples_list.append(element)\n",
    "    return multiples_list"
   ]
  },
  {
   "cell_type": "code",
   "execution_count": 45,
   "metadata": {},
   "outputs": [
    {
     "data": {
      "text/plain": [
       "[0, 3, 6, 9, 12, 15, 18, 21, 24, 27, 30, 33, 36, 39, 42]"
      ]
     },
     "execution_count": 45,
     "metadata": {},
     "output_type": "execute_result"
    }
   ],
   "source": [
    "get_multiples(45, divisor=3)"
   ]
  },
  {
   "cell_type": "code",
   "execution_count": 46,
   "metadata": {},
   "outputs": [
    {
     "ename": "SyntaxError",
     "evalue": "non-default argument follows default argument (<ipython-input-46-ff8dfbaf21d8>, line 4)",
     "output_type": "error",
     "traceback": [
      "\u001b[0;36m  File \u001b[0;32m\"<ipython-input-46-ff8dfbaf21d8>\"\u001b[0;36m, line \u001b[0;32m4\u001b[0m\n\u001b[0;31m    def get_multiples(divisor=2, number):\u001b[0m\n\u001b[0m                     ^\u001b[0m\n\u001b[0;31mSyntaxError\u001b[0m\u001b[0;31m:\u001b[0m non-default argument follows default argument\n"
     ]
    }
   ],
   "source": [
    "# This is the incorrect order for parameters: \n",
    "# set parameters must come before changeable parameters\n",
    "\n",
    "def get_multiples(divisor=2, number):\n",
    "    multiples_list = []\n",
    "    \n",
    "    for element in range(number):\n",
    "        if element % divisor == 0:\n",
    "            multiples_list.append(element)\n",
    "    return multiples_list"
   ]
  },
  {
   "cell_type": "markdown",
   "metadata": {},
   "source": [
    "### Variable Scope"
   ]
  },
  {
   "cell_type": "code",
   "execution_count": 53,
   "metadata": {},
   "outputs": [],
   "source": [
    "# Let's set a global variable\n",
    "global_var = 5\n",
    "\n",
    "# Now let's see if it's visible within a function\n",
    "def test_func():\n",
    "    print(\"My global variable: {}\".format(global_var))\n",
    "    local_var = 10\n",
    "    print(\"My local variable: {}\".format(local_var))"
   ]
  },
  {
   "cell_type": "code",
   "execution_count": 54,
   "metadata": {},
   "outputs": [
    {
     "data": {
      "text/plain": [
       "5"
      ]
     },
     "execution_count": 54,
     "metadata": {},
     "output_type": "execute_result"
    }
   ],
   "source": [
    "# Now let's call our variables\n",
    "global_var"
   ]
  },
  {
   "cell_type": "code",
   "execution_count": 55,
   "metadata": {},
   "outputs": [
    {
     "name": "stdout",
     "output_type": "stream",
     "text": [
      "My global variable: 5\n",
      "My local variable: 10\n"
     ]
    }
   ],
   "source": [
    "# Notice both variables work within the function\n",
    "test_func()"
   ]
  },
  {
   "cell_type": "code",
   "execution_count": 56,
   "metadata": {},
   "outputs": [
    {
     "ename": "NameError",
     "evalue": "name 'local_var' is not defined",
     "output_type": "error",
     "traceback": [
      "\u001b[0;31m---------------------------------------------------------------------------\u001b[0m",
      "\u001b[0;31mNameError\u001b[0m                                 Traceback (most recent call last)",
      "\u001b[0;32m<ipython-input-56-268452b85e37>\u001b[0m in \u001b[0;36m<module>\u001b[0;34m()\u001b[0m\n\u001b[1;32m      1\u001b[0m \u001b[0;31m# Now let's call the local variable\u001b[0m\u001b[0;34m\u001b[0m\u001b[0;34m\u001b[0m\u001b[0m\n\u001b[0;32m----> 2\u001b[0;31m \u001b[0mlocal_var\u001b[0m\u001b[0;34m\u001b[0m\u001b[0m\n\u001b[0m",
      "\u001b[0;31mNameError\u001b[0m: name 'local_var' is not defined"
     ]
    }
   ],
   "source": [
    "# Now let's call the local variable\n",
    "local_var\n",
    "# Python did not recognize the variable because it is local to the function"
   ]
  },
  {
   "cell_type": "code",
   "execution_count": null,
   "metadata": {},
   "outputs": [],
   "source": []
  }
 ],
 "metadata": {
  "kernelspec": {
   "display_name": "Python 3",
   "language": "python",
   "name": "python3"
  },
  "language_info": {
   "codemirror_mode": {
    "name": "ipython",
    "version": 3
   },
   "file_extension": ".py",
   "mimetype": "text/x-python",
   "name": "python",
   "nbconvert_exporter": "python",
   "pygments_lexer": "ipython3",
   "version": "3.6.4"
  }
 },
 "nbformat": 4,
 "nbformat_minor": 2
}
