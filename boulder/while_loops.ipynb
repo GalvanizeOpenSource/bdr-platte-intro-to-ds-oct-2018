{
 "cells": [
  {
   "cell_type": "markdown",
   "metadata": {},
   "source": [
    "# and, or, not"
   ]
  },
  {
   "cell_type": "code",
   "execution_count": 1,
   "metadata": {},
   "outputs": [
    {
     "name": "stdout",
     "output_type": "stream",
     "text": [
      "passes\n"
     ]
    }
   ],
   "source": [
    "x = 65\n",
    "if not (x < 60 or x > 70):\n",
    "    print('passes')"
   ]
  },
  {
   "cell_type": "markdown",
   "metadata": {},
   "source": [
    "# While loops"
   ]
  },
  {
   "cell_type": "code",
   "execution_count": 2,
   "metadata": {},
   "outputs": [
    {
     "name": "stdout",
     "output_type": "stream",
     "text": [
      "36\n"
     ]
    }
   ],
   "source": [
    "sum_1_8 = 1 + 2 + 3 + 4 + 5 + 6 + 7 + 8\n",
    "print(sum_1_8)"
   ]
  },
  {
   "cell_type": "code",
   "execution_count": 3,
   "metadata": {},
   "outputs": [
    {
     "name": "stdout",
     "output_type": "stream",
     "text": [
      "45\n"
     ]
    }
   ],
   "source": [
    "sum_1_9 = 1 + 2 + 3 + 4 + 5 + 6 + 7 + 8 + 9\n",
    "print(sum_1_9)"
   ]
  },
  {
   "cell_type": "code",
   "execution_count": 4,
   "metadata": {},
   "outputs": [
    {
     "name": "stdout",
     "output_type": "stream",
     "text": [
      "36\n"
     ]
    }
   ],
   "source": [
    "total = 0\n",
    "end = 8\n",
    "i = 0\n",
    "while i <= end:  # 8 <= 8\n",
    "    total += i\n",
    "    i += 1       #\n",
    "print(total)"
   ]
  },
  {
   "cell_type": "code",
   "execution_count": 7,
   "metadata": {},
   "outputs": [
    {
     "name": "stdout",
     "output_type": "stream",
     "text": [
      "36\n"
     ]
    }
   ],
   "source": [
    "total = 0\n",
    "end = 9\n",
    "i = 0\n",
    "while i < end:       # 9 < 9\n",
    "    total += i\n",
    "    i += 1\n",
    "print(total)"
   ]
  },
  {
   "cell_type": "code",
   "execution_count": 9,
   "metadata": {},
   "outputs": [
    {
     "name": "stdout",
     "output_type": "stream",
     "text": [
      "1 2\n",
      "3 3\n",
      "6 4\n",
      "10 5\n",
      "16 7\n",
      "23 8\n",
      "31 9\n",
      "31\n"
     ]
    }
   ],
   "source": [
    "total, x = 0, 1\n",
    "while x <= 8:\n",
    "    if x == 5:\n",
    "        x += 1\n",
    "        continue\n",
    "    total += x\n",
    "    x += 1\n",
    "    print(total, x)\n",
    "print(total)"
   ]
  },
  {
   "cell_type": "code",
   "execution_count": 12,
   "metadata": {},
   "outputs": [
    {
     "name": "stdout",
     "output_type": "stream",
     "text": [
      "1 2\n",
      "3 3\n",
      "6 4\n",
      "10 5\n",
      "16 7\n",
      "23 8\n",
      "31 9\n",
      "31\n"
     ]
    }
   ],
   "source": [
    "total = 0\n",
    "x = 1\n",
    "while x <= 8:\n",
    "    if x == 5:\n",
    "        x += 1\n",
    "    else:\n",
    "        total += x\n",
    "        x += 1\n",
    "        print(total, x)\n",
    "print(total)"
   ]
  },
  {
   "cell_type": "code",
   "execution_count": 13,
   "metadata": {},
   "outputs": [
    {
     "name": "stdout",
     "output_type": "stream",
     "text": [
      "The sum exceeded the max value of 25.\n",
      "25\n"
     ]
    }
   ],
   "source": [
    "total = 0\n",
    "x = 1\n",
    "while x <= 8:\n",
    "    if total > 25:\n",
    "        total = 25\n",
    "        print('The sum exceeded the max value of 25.')\n",
    "        break\n",
    "    total += x\n",
    "    x += 1\n",
    "print(total)"
   ]
  },
  {
   "cell_type": "code",
   "execution_count": null,
   "metadata": {},
   "outputs": [],
   "source": []
  }
 ],
 "metadata": {
  "kernelspec": {
   "display_name": "Python 3",
   "language": "python",
   "name": "python3"
  },
  "language_info": {
   "codemirror_mode": {
    "name": "ipython",
    "version": 3
   },
   "file_extension": ".py",
   "mimetype": "text/x-python",
   "name": "python",
   "nbconvert_exporter": "python",
   "pygments_lexer": "ipython3",
   "version": "3.7.0"
  }
 },
 "nbformat": 4,
 "nbformat_minor": 2
}
