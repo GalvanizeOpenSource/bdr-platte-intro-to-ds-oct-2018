{
 "cells": [
  {
   "cell_type": "code",
   "execution_count": 10,
   "metadata": {},
   "outputs": [],
   "source": [
    "class LinearPolynomial():\n",
    "    \"\"\"\n",
    "    This class implements a linear polynomial. That is, it is\n",
    "    a polynomial of the form\n",
    "\n",
    "    mx + b\n",
    "\n",
    "    For this class, please implement functioanlity to create\n",
    "    a polynomial, create a string representation for it, and\n",
    "    add two instances of two LinearPolynomial classes together.\n",
    "    \"\"\"\n",
    "    def __init__(self, m, b):\n",
    "        self.m = m\n",
    "        self.b = b\n",
    "\n",
    "    def __str__(self):\n",
    "        \"\"\"\n",
    "        Returns a string representation of the LinearPolynomial instance\n",
    "        referenced by self.\n",
    "\n",
    "        Parameters\n",
    "        ----------\n",
    "        None\n",
    "\n",
    "        Returns\n",
    "        -------\n",
    "        A string formatted like:\n",
    "\n",
    "        mx + b\n",
    "\n",
    "        Where m is self.m and b is self.b\n",
    "        \"\"\"\n",
    "        return '{}x + {}'.format(self.m, self.b)\n",
    "\n",
    "    def __add__(self, other):\n",
    "        \"\"\"\n",
    "        This function adds the other instance of LinearPolynomial\n",
    "        to the instance referenced by self.\n",
    "\n",
    "        Parameters\n",
    "        ----------\n",
    "        other: {LinearPolynomial} an instance of LinearPolynomial\n",
    "            to add to self.\n",
    "\n",
    "        Returns\n",
    "        -------\n",
    "        The sum of this instance of LinearPolynomial with another\n",
    "        instance of LinearPolynomial. This sum will not change either\n",
    "        of the instances reference by self or other. It returns the\n",
    "        sum as a new instance of LinearPolynomial, instantiated with\n",
    "        the newly calculated sum.\n",
    "        \"\"\"\n",
    "        return LinearPolynomial(self.m + other.m, self.b + other.b)"
   ]
  },
  {
   "cell_type": "code",
   "execution_count": 9,
   "metadata": {},
   "outputs": [
    {
     "name": "stdout",
     "output_type": "stream",
     "text": [
      "3x + 6\n"
     ]
    }
   ],
   "source": [
    "lp = LinearPolynomial(3, 6)\n",
    "print(lp)"
   ]
  },
  {
   "cell_type": "code",
   "execution_count": 12,
   "metadata": {},
   "outputs": [
    {
     "name": "stdout",
     "output_type": "stream",
     "text": [
      "7x + 6\n"
     ]
    }
   ],
   "source": [
    "lp1 = LinearPolynomial(5, 1)\n",
    "lp2 = LinearPolynomial(2, 5)\n",
    "print(lp1 + lp2)"
   ]
  },
  {
   "cell_type": "code",
   "execution_count": null,
   "metadata": {},
   "outputs": [],
   "source": []
  }
 ],
 "metadata": {
  "kernelspec": {
   "display_name": "Python 3",
   "language": "python",
   "name": "python3"
  },
  "language_info": {
   "codemirror_mode": {
    "name": "ipython",
    "version": 3
   },
   "file_extension": ".py",
   "mimetype": "text/x-python",
   "name": "python",
   "nbconvert_exporter": "python",
   "pygments_lexer": "ipython3",
   "version": "3.6.6"
  }
 },
 "nbformat": 4,
 "nbformat_minor": 2
}
