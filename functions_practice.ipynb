{
 "cells": [
  {
   "cell_type": "markdown",
   "metadata": {},
   "source": [
    "### Functions Practice"
   ]
  },
  {
   "cell_type": "markdown",
   "metadata": {},
   "source": [
    "###### Students were asked to take code and put it in a function. These are examples of that code in a function."
   ]
  },
  {
   "cell_type": "code",
   "execution_count": 13,
   "metadata": {},
   "outputs": [],
   "source": [
    "'''Number 1'''\n",
    "\n",
    "# s = input('Please enter a string: ')\n",
    "\n",
    "# result = \"\"\n",
    "\n",
    "# for idx, char in enumerate(s):\n",
    "#     if idx, % 2 != 0:\n",
    "#         char = char.upper()\n",
    "#         result += char\n",
    "#     else:\n",
    "#         char = char.lower()\n",
    "#         result += char\n",
    "# print(result)\n",
    "\n",
    "\n",
    "def upper_lower_string(user_inputted_string):\n",
    "    \n",
    "    result = \"\"\n",
    "    \n",
    "    for idx, char in enumerate(user_inputted_string):\n",
    "        if idx % 2 != 0:\n",
    "            char = char.upper()\n",
    "            result += char\n",
    "        else:\n",
    "            char = char.lower()\n",
    "            result += char\n",
    "            \n",
    "    return result"
   ]
  },
  {
   "cell_type": "code",
   "execution_count": 15,
   "metadata": {},
   "outputs": [
    {
     "name": "stdout",
     "output_type": "stream",
     "text": [
      "Please enter a string: hello bob how are you\n"
     ]
    },
    {
     "data": {
      "text/plain": [
       "'hElLo bOb hOw aRe yOu'"
      ]
     },
     "execution_count": 15,
     "metadata": {},
     "output_type": "execute_result"
    }
   ],
   "source": [
    "user_str = input('Please enter a string: ')\n",
    "upper_lower_string(user_str)"
   ]
  },
  {
   "cell_type": "code",
   "execution_count": 16,
   "metadata": {},
   "outputs": [],
   "source": [
    "'''Number 2'''\n",
    "\n",
    "# l = []\n",
    "\n",
    "# n = int(input('Please enter a number: '))\n",
    "\n",
    "# for num in range(0, n):\n",
    "#     if num % 2 == 0:\n",
    "#         l.append(num)\n",
    "# print(l)\n",
    "\n",
    "def get_evens(user_number):\n",
    "    \n",
    "    l = []\n",
    "    \n",
    "    for num in range(0, user_number):\n",
    "        if num % 2 == 0:\n",
    "            l.append(num)\n",
    "            \n",
    "    return l"
   ]
  },
  {
   "cell_type": "code",
   "execution_count": 17,
   "metadata": {},
   "outputs": [
    {
     "name": "stdout",
     "output_type": "stream",
     "text": [
      "Please enter a number: 17\n"
     ]
    },
    {
     "data": {
      "text/plain": [
       "[0, 2, 4, 6, 8, 10, 12, 14, 16]"
      ]
     },
     "execution_count": 17,
     "metadata": {},
     "output_type": "execute_result"
    }
   ],
   "source": [
    "user_num = int(input('Please enter a number: '))\n",
    "get_evens(user_num)"
   ]
  },
  {
   "cell_type": "code",
   "execution_count": 18,
   "metadata": {},
   "outputs": [],
   "source": [
    "'''Number 3'''\n",
    "\n",
    "# l = []\n",
    "\n",
    "# n1 = int(input('Please enter a number: '))\n",
    "# n2 = int(input('Please enter a number to divide by: '))\n",
    "\n",
    "# for num in range(0, n1):\n",
    "#     if num % n2 == 0:\n",
    "#         l.append(num)\n",
    "# print(l)\n",
    "\n",
    "def divisor_range(user_num1, user_num2):\n",
    "    \n",
    "    l = []\n",
    "    \n",
    "    for num in range(0, user_num1):\n",
    "        if num % user_num2 == 0:\n",
    "            l.append(num)\n",
    "    \n",
    "    return l\n",
    "        "
   ]
  },
  {
   "cell_type": "code",
   "execution_count": 19,
   "metadata": {},
   "outputs": [
    {
     "name": "stdout",
     "output_type": "stream",
     "text": [
      "Please enter a number: 45\n",
      "Please enter a number to divide by: 6\n"
     ]
    },
    {
     "data": {
      "text/plain": [
       "[0, 6, 12, 18, 24, 30, 36, 42]"
      ]
     },
     "execution_count": 19,
     "metadata": {},
     "output_type": "execute_result"
    }
   ],
   "source": [
    "n1 = int(input('Please enter a number: '))\n",
    "n2 = int(input('Please enter a number to divide by: '))\n",
    "get_divisors(n1, n2)"
   ]
  },
  {
   "cell_type": "code",
   "execution_count": 20,
   "metadata": {},
   "outputs": [],
   "source": [
    "'''Number 4'''\n",
    "\n",
    "# n1 = int(input('Please enter a number: '))\n",
    "# n2 = int(input('Please enter a second number: '))\n",
    "\n",
    "# multiples = []\n",
    "\n",
    "# for num in range(0, n2):\n",
    "#     if num % n1 == 0:\n",
    "#         multiples.append(num)\n",
    "# print(multiples)\n",
    "\n",
    "def get_multiples(user_num1, user_num2):\n",
    "    \n",
    "    multiples = []\n",
    "    \n",
    "    for num in range(0, user_num2):\n",
    "        if num % user_num1 == 0:\n",
    "            multiples.append(num)\n",
    "    \n",
    "    return multiples"
   ]
  },
  {
   "cell_type": "code",
   "execution_count": 21,
   "metadata": {},
   "outputs": [
    {
     "name": "stdout",
     "output_type": "stream",
     "text": [
      "Please enter a number: 4\n",
      "Please enter a second number: 12\n"
     ]
    },
    {
     "data": {
      "text/plain": [
       "[0, 4, 8]"
      ]
     },
     "execution_count": 21,
     "metadata": {},
     "output_type": "execute_result"
    }
   ],
   "source": [
    "num1 = int(input('Please enter a number: '))\n",
    "num2 = int(input('Please enter a second number: '))\n",
    "get_multiples(num1, num2)"
   ]
  },
  {
   "cell_type": "markdown",
   "metadata": {},
   "source": [
    "##### Students were asked to write the following functions. Below are solutions."
   ]
  },
  {
   "cell_type": "code",
   "execution_count": 22,
   "metadata": {},
   "outputs": [],
   "source": [
    "'''Number 1'''\n",
    "\n",
    "'''Write a function that takes a list of numbers \n",
    "as an argument and returns the max number \n",
    "in the list'''\n",
    "\n",
    "def find_max_num_in_list(lst_of_numbers):\n",
    "    \n",
    "    return max(lst_of_numbers)"
   ]
  },
  {
   "cell_type": "code",
   "execution_count": 23,
   "metadata": {},
   "outputs": [
    {
     "data": {
      "text/plain": [
       "345"
      ]
     },
     "execution_count": 23,
     "metadata": {},
     "output_type": "execute_result"
    }
   ],
   "source": [
    "nums = [1,2,5,4,7,90,12,345]\n",
    "find_max_num_in_list(nums)"
   ]
  },
  {
   "cell_type": "code",
   "execution_count": 24,
   "metadata": {},
   "outputs": [],
   "source": [
    "'''Number 2'''\n",
    "\n",
    "'''Write a function that accepts a hyphen-separated sequence of words \n",
    "as input and prints the words in a hyphen-separated sequence \n",
    "after sorting them alphabetically.'''\n",
    "\n",
    "def sort_word_sequence(input_string):\n",
    "    \n",
    "    word_list = input_string.split('-')\n",
    "    sorted_list = sorted(word_list)\n",
    "    \n",
    "    return '-'.join(sorted_list)"
   ]
  },
  {
   "cell_type": "code",
   "execution_count": 25,
   "metadata": {},
   "outputs": [
    {
     "data": {
      "text/plain": [
       "'capital-chicago-illinois-is-not-of-the'"
      ]
     },
     "execution_count": 25,
     "metadata": {},
     "output_type": "execute_result"
    }
   ],
   "source": [
    "hyphen_str = 'chicago-is-not-the-capital-of-illinois'\n",
    "sort_word_sequence(hyphen_str)"
   ]
  },
  {
   "cell_type": "code",
   "execution_count": 26,
   "metadata": {},
   "outputs": [],
   "source": [
    "'''Number 4'''\n",
    "\n",
    "'''Write a function that takes a user inputted name and zip code, \n",
    "if the name is not already in a zip_code dictionary, \n",
    "add it to a dictionary as a key with the zip code as a \n",
    "value, then return the dictionary '''\n",
    "\n",
    "def add_zipcode(name, zip_code, zip_dict):\n",
    "    \n",
    "    \n",
    "    if name not in zip_dict:\n",
    "        zip_dict[name] = zip_code\n",
    "    \n",
    "    return zip_dict"
   ]
  },
  {
   "cell_type": "code",
   "execution_count": 27,
   "metadata": {},
   "outputs": [
    {
     "data": {
      "text/plain": [
       "{'Erin Desmond': 75771}"
      ]
     },
     "execution_count": 27,
     "metadata": {},
     "output_type": "execute_result"
    }
   ],
   "source": [
    "zip_codes = {}\n",
    "name = 'Erin Desmond'\n",
    "zipcode = 75771\n",
    "add_zipcode(name, zipcode, zip_codes)"
   ]
  },
  {
   "cell_type": "code",
   "execution_count": 32,
   "metadata": {},
   "outputs": [],
   "source": [
    "'''Number 5'''\n",
    "\n",
    "'''Write a function which takes  two dictionaries as arguments. \n",
    "Combine the dictionaries,  adding the values for common keys.'''\n",
    "\n",
    "def combine_dicts(dict1, dict2):\n",
    "    \n",
    "    added_dicts = dict1.copy()\n",
    "    \n",
    "    for k, v in dict2.items():\n",
    "        if k in added_dicts:\n",
    "            added_dicts[k] += v\n",
    "        else:\n",
    "            added_dicts[k] = v\n",
    "\n",
    "    return added_dicts"
   ]
  },
  {
   "cell_type": "code",
   "execution_count": 33,
   "metadata": {},
   "outputs": [
    {
     "data": {
      "text/plain": [
       "{'a': 400, 'b': 400, 'c': 300, 'd': 400}"
      ]
     },
     "execution_count": 33,
     "metadata": {},
     "output_type": "execute_result"
    }
   ],
   "source": [
    "d1 = {'a':100, 'b':200, 'c':300}\n",
    "d2 = {'a':300, 'b':200, 'd':400}\n",
    "combine_dicts(d1, d2)"
   ]
  }
 ],
 "metadata": {
  "kernelspec": {
   "display_name": "Python 3",
   "language": "python",
   "name": "python3"
  },
  "language_info": {
   "codemirror_mode": {
    "name": "ipython",
    "version": 3
   },
   "file_extension": ".py",
   "mimetype": "text/x-python",
   "name": "python",
   "nbconvert_exporter": "python",
   "pygments_lexer": "ipython3",
   "version": "3.6.4"
  }
 },
 "nbformat": 4,
 "nbformat_minor": 2
}
